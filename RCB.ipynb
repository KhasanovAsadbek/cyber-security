{
  "nbformat": 4,
  "nbformat_minor": 0,
  "metadata": {
    "colab": {
      "provenance": []
    },
    "kernelspec": {
      "name": "python3",
      "display_name": "Python 3"
    },
    "language_info": {
      "name": "python"
    }
  },
  "cells": [
    {
      "cell_type": "code",
      "source": [
        "import numpy as np # linear algebra\n",
        "import pandas as pd # data processing, CSV file\n",
        "import matplotlib.pyplot as plt\n",
        "import seaborn as sns"
      ],
      "metadata": {
        "id": "16KUkMGSekE-"
      },
      "execution_count": 12,
      "outputs": []
    },
    {
      "cell_type": "code",
      "source": [
        "# Load the dataset\n",
        "data = pd.read_csv(\"Obfuscated-MalMem2022.csv\")"
      ],
      "metadata": {
        "id": "zW2hcHOSekBw"
      },
      "execution_count": 44,
      "outputs": []
    },
    {
      "cell_type": "code",
      "source": [
        "# Display the first few rows of the dataset\n",
        "data.head()"
      ],
      "metadata": {
        "colab": {
          "base_uri": "https://localhost:8080/",
          "height": 255
        },
        "id": "ZPIppkFnej-i",
        "outputId": "c712b1a0-85e0-4f9b-de3a-79965d8b4488"
      },
      "execution_count": 45,
      "outputs": [
        {
          "output_type": "execute_result",
          "data": {
            "text/plain": [
              "  Category  pslist.nproc  pslist.nppid  pslist.avg_threads  \\\n",
              "0   Benign            45            17           10.555556   \n",
              "1   Benign            47            19           11.531915   \n",
              "2   Benign            40            14           14.725000   \n",
              "3   Benign            32            13           13.500000   \n",
              "4   Benign            42            16           11.452381   \n",
              "\n",
              "   pslist.nprocs64bit  pslist.avg_handlers  dlllist.ndlls  \\\n",
              "0                   0           202.844444           1694   \n",
              "1                   0           242.234043           2074   \n",
              "2                   0           288.225000           1932   \n",
              "3                   0           264.281250           1445   \n",
              "4                   0           281.333333           2067   \n",
              "\n",
              "   dlllist.avg_dlls_per_proc  handles.nhandles  handles.avg_handles_per_proc  \\\n",
              "0                  38.500000              9129                    212.302326   \n",
              "1                  44.127660             11385                    242.234043   \n",
              "2                  48.300000             11529                    288.225000   \n",
              "3                  45.156250              8457                    264.281250   \n",
              "4                  49.214286             11816                    281.333333   \n",
              "\n",
              "   ...  svcscan.kernel_drivers  svcscan.fs_drivers  svcscan.process_services  \\\n",
              "0  ...                     221                  26                        24   \n",
              "1  ...                     222                  26                        24   \n",
              "2  ...                     222                  26                        27   \n",
              "3  ...                     222                  26                        27   \n",
              "4  ...                     222                  26                        24   \n",
              "\n",
              "   svcscan.shared_process_services  svcscan.interactive_process_services  \\\n",
              "0                              116                                     0   \n",
              "1                              118                                     0   \n",
              "2                              118                                     0   \n",
              "3                              118                                     0   \n",
              "4                              118                                     0   \n",
              "\n",
              "   svcscan.nactive  callbacks.ncallbacks  callbacks.nanonymous  \\\n",
              "0              121                    87                     0   \n",
              "1              122                    87                     0   \n",
              "2              120                    88                     0   \n",
              "3              120                    88                     0   \n",
              "4              124                    87                     0   \n",
              "\n",
              "   callbacks.ngeneric   Class  \n",
              "0                   8  Benign  \n",
              "1                   8  Benign  \n",
              "2                   8  Benign  \n",
              "3                   8  Benign  \n",
              "4                   8  Benign  \n",
              "\n",
              "[5 rows x 57 columns]"
            ],
            "text/html": [
              "\n",
              "  <div id=\"df-6f24d734-38de-48e8-b5cd-2717924efb5a\" class=\"colab-df-container\">\n",
              "    <div>\n",
              "<style scoped>\n",
              "    .dataframe tbody tr th:only-of-type {\n",
              "        vertical-align: middle;\n",
              "    }\n",
              "\n",
              "    .dataframe tbody tr th {\n",
              "        vertical-align: top;\n",
              "    }\n",
              "\n",
              "    .dataframe thead th {\n",
              "        text-align: right;\n",
              "    }\n",
              "</style>\n",
              "<table border=\"1\" class=\"dataframe\">\n",
              "  <thead>\n",
              "    <tr style=\"text-align: right;\">\n",
              "      <th></th>\n",
              "      <th>Category</th>\n",
              "      <th>pslist.nproc</th>\n",
              "      <th>pslist.nppid</th>\n",
              "      <th>pslist.avg_threads</th>\n",
              "      <th>pslist.nprocs64bit</th>\n",
              "      <th>pslist.avg_handlers</th>\n",
              "      <th>dlllist.ndlls</th>\n",
              "      <th>dlllist.avg_dlls_per_proc</th>\n",
              "      <th>handles.nhandles</th>\n",
              "      <th>handles.avg_handles_per_proc</th>\n",
              "      <th>...</th>\n",
              "      <th>svcscan.kernel_drivers</th>\n",
              "      <th>svcscan.fs_drivers</th>\n",
              "      <th>svcscan.process_services</th>\n",
              "      <th>svcscan.shared_process_services</th>\n",
              "      <th>svcscan.interactive_process_services</th>\n",
              "      <th>svcscan.nactive</th>\n",
              "      <th>callbacks.ncallbacks</th>\n",
              "      <th>callbacks.nanonymous</th>\n",
              "      <th>callbacks.ngeneric</th>\n",
              "      <th>Class</th>\n",
              "    </tr>\n",
              "  </thead>\n",
              "  <tbody>\n",
              "    <tr>\n",
              "      <th>0</th>\n",
              "      <td>Benign</td>\n",
              "      <td>45</td>\n",
              "      <td>17</td>\n",
              "      <td>10.555556</td>\n",
              "      <td>0</td>\n",
              "      <td>202.844444</td>\n",
              "      <td>1694</td>\n",
              "      <td>38.500000</td>\n",
              "      <td>9129</td>\n",
              "      <td>212.302326</td>\n",
              "      <td>...</td>\n",
              "      <td>221</td>\n",
              "      <td>26</td>\n",
              "      <td>24</td>\n",
              "      <td>116</td>\n",
              "      <td>0</td>\n",
              "      <td>121</td>\n",
              "      <td>87</td>\n",
              "      <td>0</td>\n",
              "      <td>8</td>\n",
              "      <td>Benign</td>\n",
              "    </tr>\n",
              "    <tr>\n",
              "      <th>1</th>\n",
              "      <td>Benign</td>\n",
              "      <td>47</td>\n",
              "      <td>19</td>\n",
              "      <td>11.531915</td>\n",
              "      <td>0</td>\n",
              "      <td>242.234043</td>\n",
              "      <td>2074</td>\n",
              "      <td>44.127660</td>\n",
              "      <td>11385</td>\n",
              "      <td>242.234043</td>\n",
              "      <td>...</td>\n",
              "      <td>222</td>\n",
              "      <td>26</td>\n",
              "      <td>24</td>\n",
              "      <td>118</td>\n",
              "      <td>0</td>\n",
              "      <td>122</td>\n",
              "      <td>87</td>\n",
              "      <td>0</td>\n",
              "      <td>8</td>\n",
              "      <td>Benign</td>\n",
              "    </tr>\n",
              "    <tr>\n",
              "      <th>2</th>\n",
              "      <td>Benign</td>\n",
              "      <td>40</td>\n",
              "      <td>14</td>\n",
              "      <td>14.725000</td>\n",
              "      <td>0</td>\n",
              "      <td>288.225000</td>\n",
              "      <td>1932</td>\n",
              "      <td>48.300000</td>\n",
              "      <td>11529</td>\n",
              "      <td>288.225000</td>\n",
              "      <td>...</td>\n",
              "      <td>222</td>\n",
              "      <td>26</td>\n",
              "      <td>27</td>\n",
              "      <td>118</td>\n",
              "      <td>0</td>\n",
              "      <td>120</td>\n",
              "      <td>88</td>\n",
              "      <td>0</td>\n",
              "      <td>8</td>\n",
              "      <td>Benign</td>\n",
              "    </tr>\n",
              "    <tr>\n",
              "      <th>3</th>\n",
              "      <td>Benign</td>\n",
              "      <td>32</td>\n",
              "      <td>13</td>\n",
              "      <td>13.500000</td>\n",
              "      <td>0</td>\n",
              "      <td>264.281250</td>\n",
              "      <td>1445</td>\n",
              "      <td>45.156250</td>\n",
              "      <td>8457</td>\n",
              "      <td>264.281250</td>\n",
              "      <td>...</td>\n",
              "      <td>222</td>\n",
              "      <td>26</td>\n",
              "      <td>27</td>\n",
              "      <td>118</td>\n",
              "      <td>0</td>\n",
              "      <td>120</td>\n",
              "      <td>88</td>\n",
              "      <td>0</td>\n",
              "      <td>8</td>\n",
              "      <td>Benign</td>\n",
              "    </tr>\n",
              "    <tr>\n",
              "      <th>4</th>\n",
              "      <td>Benign</td>\n",
              "      <td>42</td>\n",
              "      <td>16</td>\n",
              "      <td>11.452381</td>\n",
              "      <td>0</td>\n",
              "      <td>281.333333</td>\n",
              "      <td>2067</td>\n",
              "      <td>49.214286</td>\n",
              "      <td>11816</td>\n",
              "      <td>281.333333</td>\n",
              "      <td>...</td>\n",
              "      <td>222</td>\n",
              "      <td>26</td>\n",
              "      <td>24</td>\n",
              "      <td>118</td>\n",
              "      <td>0</td>\n",
              "      <td>124</td>\n",
              "      <td>87</td>\n",
              "      <td>0</td>\n",
              "      <td>8</td>\n",
              "      <td>Benign</td>\n",
              "    </tr>\n",
              "  </tbody>\n",
              "</table>\n",
              "<p>5 rows × 57 columns</p>\n",
              "</div>\n",
              "    <div class=\"colab-df-buttons\">\n",
              "\n",
              "  <div class=\"colab-df-container\">\n",
              "    <button class=\"colab-df-convert\" onclick=\"convertToInteractive('df-6f24d734-38de-48e8-b5cd-2717924efb5a')\"\n",
              "            title=\"Convert this dataframe to an interactive table.\"\n",
              "            style=\"display:none;\">\n",
              "\n",
              "  <svg xmlns=\"http://www.w3.org/2000/svg\" height=\"24px\" viewBox=\"0 -960 960 960\">\n",
              "    <path d=\"M120-120v-720h720v720H120Zm60-500h600v-160H180v160Zm220 220h160v-160H400v160Zm0 220h160v-160H400v160ZM180-400h160v-160H180v160Zm440 0h160v-160H620v160ZM180-180h160v-160H180v160Zm440 0h160v-160H620v160Z\"/>\n",
              "  </svg>\n",
              "    </button>\n",
              "\n",
              "  <style>\n",
              "    .colab-df-container {\n",
              "      display:flex;\n",
              "      gap: 12px;\n",
              "    }\n",
              "\n",
              "    .colab-df-convert {\n",
              "      background-color: #E8F0FE;\n",
              "      border: none;\n",
              "      border-radius: 50%;\n",
              "      cursor: pointer;\n",
              "      display: none;\n",
              "      fill: #1967D2;\n",
              "      height: 32px;\n",
              "      padding: 0 0 0 0;\n",
              "      width: 32px;\n",
              "    }\n",
              "\n",
              "    .colab-df-convert:hover {\n",
              "      background-color: #E2EBFA;\n",
              "      box-shadow: 0px 1px 2px rgba(60, 64, 67, 0.3), 0px 1px 3px 1px rgba(60, 64, 67, 0.15);\n",
              "      fill: #174EA6;\n",
              "    }\n",
              "\n",
              "    .colab-df-buttons div {\n",
              "      margin-bottom: 4px;\n",
              "    }\n",
              "\n",
              "    [theme=dark] .colab-df-convert {\n",
              "      background-color: #3B4455;\n",
              "      fill: #D2E3FC;\n",
              "    }\n",
              "\n",
              "    [theme=dark] .colab-df-convert:hover {\n",
              "      background-color: #434B5C;\n",
              "      box-shadow: 0px 1px 3px 1px rgba(0, 0, 0, 0.15);\n",
              "      filter: drop-shadow(0px 1px 2px rgba(0, 0, 0, 0.3));\n",
              "      fill: #FFFFFF;\n",
              "    }\n",
              "  </style>\n",
              "\n",
              "    <script>\n",
              "      const buttonEl =\n",
              "        document.querySelector('#df-6f24d734-38de-48e8-b5cd-2717924efb5a button.colab-df-convert');\n",
              "      buttonEl.style.display =\n",
              "        google.colab.kernel.accessAllowed ? 'block' : 'none';\n",
              "\n",
              "      async function convertToInteractive(key) {\n",
              "        const element = document.querySelector('#df-6f24d734-38de-48e8-b5cd-2717924efb5a');\n",
              "        const dataTable =\n",
              "          await google.colab.kernel.invokeFunction('convertToInteractive',\n",
              "                                                    [key], {});\n",
              "        if (!dataTable) return;\n",
              "\n",
              "        const docLinkHtml = 'Like what you see? Visit the ' +\n",
              "          '<a target=\"_blank\" href=https://colab.research.google.com/notebooks/data_table.ipynb>data table notebook</a>'\n",
              "          + ' to learn more about interactive tables.';\n",
              "        element.innerHTML = '';\n",
              "        dataTable['output_type'] = 'display_data';\n",
              "        await google.colab.output.renderOutput(dataTable, element);\n",
              "        const docLink = document.createElement('div');\n",
              "        docLink.innerHTML = docLinkHtml;\n",
              "        element.appendChild(docLink);\n",
              "      }\n",
              "    </script>\n",
              "  </div>\n",
              "\n",
              "\n",
              "<div id=\"df-e13745bf-7c09-4d01-9aaa-db59ab541866\">\n",
              "  <button class=\"colab-df-quickchart\" onclick=\"quickchart('df-e13745bf-7c09-4d01-9aaa-db59ab541866')\"\n",
              "            title=\"Suggest charts\"\n",
              "            style=\"display:none;\">\n",
              "\n",
              "<svg xmlns=\"http://www.w3.org/2000/svg\" height=\"24px\"viewBox=\"0 0 24 24\"\n",
              "     width=\"24px\">\n",
              "    <g>\n",
              "        <path d=\"M19 3H5c-1.1 0-2 .9-2 2v14c0 1.1.9 2 2 2h14c1.1 0 2-.9 2-2V5c0-1.1-.9-2-2-2zM9 17H7v-7h2v7zm4 0h-2V7h2v10zm4 0h-2v-4h2v4z\"/>\n",
              "    </g>\n",
              "</svg>\n",
              "  </button>\n",
              "\n",
              "<style>\n",
              "  .colab-df-quickchart {\n",
              "      --bg-color: #E8F0FE;\n",
              "      --fill-color: #1967D2;\n",
              "      --hover-bg-color: #E2EBFA;\n",
              "      --hover-fill-color: #174EA6;\n",
              "      --disabled-fill-color: #AAA;\n",
              "      --disabled-bg-color: #DDD;\n",
              "  }\n",
              "\n",
              "  [theme=dark] .colab-df-quickchart {\n",
              "      --bg-color: #3B4455;\n",
              "      --fill-color: #D2E3FC;\n",
              "      --hover-bg-color: #434B5C;\n",
              "      --hover-fill-color: #FFFFFF;\n",
              "      --disabled-bg-color: #3B4455;\n",
              "      --disabled-fill-color: #666;\n",
              "  }\n",
              "\n",
              "  .colab-df-quickchart {\n",
              "    background-color: var(--bg-color);\n",
              "    border: none;\n",
              "    border-radius: 50%;\n",
              "    cursor: pointer;\n",
              "    display: none;\n",
              "    fill: var(--fill-color);\n",
              "    height: 32px;\n",
              "    padding: 0;\n",
              "    width: 32px;\n",
              "  }\n",
              "\n",
              "  .colab-df-quickchart:hover {\n",
              "    background-color: var(--hover-bg-color);\n",
              "    box-shadow: 0 1px 2px rgba(60, 64, 67, 0.3), 0 1px 3px 1px rgba(60, 64, 67, 0.15);\n",
              "    fill: var(--button-hover-fill-color);\n",
              "  }\n",
              "\n",
              "  .colab-df-quickchart-complete:disabled,\n",
              "  .colab-df-quickchart-complete:disabled:hover {\n",
              "    background-color: var(--disabled-bg-color);\n",
              "    fill: var(--disabled-fill-color);\n",
              "    box-shadow: none;\n",
              "  }\n",
              "\n",
              "  .colab-df-spinner {\n",
              "    border: 2px solid var(--fill-color);\n",
              "    border-color: transparent;\n",
              "    border-bottom-color: var(--fill-color);\n",
              "    animation:\n",
              "      spin 1s steps(1) infinite;\n",
              "  }\n",
              "\n",
              "  @keyframes spin {\n",
              "    0% {\n",
              "      border-color: transparent;\n",
              "      border-bottom-color: var(--fill-color);\n",
              "      border-left-color: var(--fill-color);\n",
              "    }\n",
              "    20% {\n",
              "      border-color: transparent;\n",
              "      border-left-color: var(--fill-color);\n",
              "      border-top-color: var(--fill-color);\n",
              "    }\n",
              "    30% {\n",
              "      border-color: transparent;\n",
              "      border-left-color: var(--fill-color);\n",
              "      border-top-color: var(--fill-color);\n",
              "      border-right-color: var(--fill-color);\n",
              "    }\n",
              "    40% {\n",
              "      border-color: transparent;\n",
              "      border-right-color: var(--fill-color);\n",
              "      border-top-color: var(--fill-color);\n",
              "    }\n",
              "    60% {\n",
              "      border-color: transparent;\n",
              "      border-right-color: var(--fill-color);\n",
              "    }\n",
              "    80% {\n",
              "      border-color: transparent;\n",
              "      border-right-color: var(--fill-color);\n",
              "      border-bottom-color: var(--fill-color);\n",
              "    }\n",
              "    90% {\n",
              "      border-color: transparent;\n",
              "      border-bottom-color: var(--fill-color);\n",
              "    }\n",
              "  }\n",
              "</style>\n",
              "\n",
              "  <script>\n",
              "    async function quickchart(key) {\n",
              "      const quickchartButtonEl =\n",
              "        document.querySelector('#' + key + ' button');\n",
              "      quickchartButtonEl.disabled = true;  // To prevent multiple clicks.\n",
              "      quickchartButtonEl.classList.add('colab-df-spinner');\n",
              "      try {\n",
              "        const charts = await google.colab.kernel.invokeFunction(\n",
              "            'suggestCharts', [key], {});\n",
              "      } catch (error) {\n",
              "        console.error('Error during call to suggestCharts:', error);\n",
              "      }\n",
              "      quickchartButtonEl.classList.remove('colab-df-spinner');\n",
              "      quickchartButtonEl.classList.add('colab-df-quickchart-complete');\n",
              "    }\n",
              "    (() => {\n",
              "      let quickchartButtonEl =\n",
              "        document.querySelector('#df-e13745bf-7c09-4d01-9aaa-db59ab541866 button');\n",
              "      quickchartButtonEl.style.display =\n",
              "        google.colab.kernel.accessAllowed ? 'block' : 'none';\n",
              "    })();\n",
              "  </script>\n",
              "</div>\n",
              "\n",
              "    </div>\n",
              "  </div>\n"
            ],
            "application/vnd.google.colaboratory.intrinsic+json": {
              "type": "dataframe",
              "variable_name": "data"
            }
          },
          "metadata": {},
          "execution_count": 45
        }
      ]
    },
    {
      "cell_type": "code",
      "source": [
        "data.shape # Print the shape of the dataset"
      ],
      "metadata": {
        "colab": {
          "base_uri": "https://localhost:8080/"
        },
        "id": "RBucaPHuej60",
        "outputId": "d9a6d7f1-122e-4264-e6b4-8b5d8357254a"
      },
      "execution_count": 4,
      "outputs": [
        {
          "output_type": "execute_result",
          "data": {
            "text/plain": [
              "(58596, 57)"
            ]
          },
          "metadata": {},
          "execution_count": 4
        }
      ]
    },
    {
      "cell_type": "code",
      "source": [
        "data.info()"
      ],
      "metadata": {
        "colab": {
          "base_uri": "https://localhost:8080/"
        },
        "id": "GlSVWXCRej3e",
        "outputId": "a1cb1354-ff3f-49c2-e426-95ad46471b8e"
      },
      "execution_count": 5,
      "outputs": [
        {
          "output_type": "stream",
          "name": "stdout",
          "text": [
            "<class 'pandas.core.frame.DataFrame'>\n",
            "RangeIndex: 58596 entries, 0 to 58595\n",
            "Data columns (total 57 columns):\n",
            " #   Column                                  Non-Null Count  Dtype  \n",
            "---  ------                                  --------------  -----  \n",
            " 0   Category                                58596 non-null  object \n",
            " 1   pslist.nproc                            58596 non-null  int64  \n",
            " 2   pslist.nppid                            58596 non-null  int64  \n",
            " 3   pslist.avg_threads                      58596 non-null  float64\n",
            " 4   pslist.nprocs64bit                      58596 non-null  int64  \n",
            " 5   pslist.avg_handlers                     58596 non-null  float64\n",
            " 6   dlllist.ndlls                           58596 non-null  int64  \n",
            " 7   dlllist.avg_dlls_per_proc               58596 non-null  float64\n",
            " 8   handles.nhandles                        58596 non-null  int64  \n",
            " 9   handles.avg_handles_per_proc            58596 non-null  float64\n",
            " 10  handles.nport                           58596 non-null  int64  \n",
            " 11  handles.nfile                           58596 non-null  int64  \n",
            " 12  handles.nevent                          58596 non-null  int64  \n",
            " 13  handles.ndesktop                        58596 non-null  int64  \n",
            " 14  handles.nkey                            58596 non-null  int64  \n",
            " 15  handles.nthread                         58596 non-null  int64  \n",
            " 16  handles.ndirectory                      58596 non-null  int64  \n",
            " 17  handles.nsemaphore                      58596 non-null  int64  \n",
            " 18  handles.ntimer                          58596 non-null  int64  \n",
            " 19  handles.nsection                        58596 non-null  int64  \n",
            " 20  handles.nmutant                         58596 non-null  int64  \n",
            " 21  ldrmodules.not_in_load                  58596 non-null  int64  \n",
            " 22  ldrmodules.not_in_init                  58596 non-null  int64  \n",
            " 23  ldrmodules.not_in_mem                   58596 non-null  int64  \n",
            " 24  ldrmodules.not_in_load_avg              58596 non-null  float64\n",
            " 25  ldrmodules.not_in_init_avg              58596 non-null  float64\n",
            " 26  ldrmodules.not_in_mem_avg               58596 non-null  float64\n",
            " 27  malfind.ninjections                     58596 non-null  int64  \n",
            " 28  malfind.commitCharge                    58596 non-null  int64  \n",
            " 29  malfind.protection                      58596 non-null  int64  \n",
            " 30  malfind.uniqueInjections                58596 non-null  float64\n",
            " 31  psxview.not_in_pslist                   58596 non-null  int64  \n",
            " 32  psxview.not_in_eprocess_pool            58596 non-null  int64  \n",
            " 33  psxview.not_in_ethread_pool             58596 non-null  int64  \n",
            " 34  psxview.not_in_pspcid_list              58596 non-null  int64  \n",
            " 35  psxview.not_in_csrss_handles            58596 non-null  int64  \n",
            " 36  psxview.not_in_session                  58596 non-null  int64  \n",
            " 37  psxview.not_in_deskthrd                 58596 non-null  int64  \n",
            " 38  psxview.not_in_pslist_false_avg         58596 non-null  float64\n",
            " 39  psxview.not_in_eprocess_pool_false_avg  58596 non-null  float64\n",
            " 40  psxview.not_in_ethread_pool_false_avg   58596 non-null  float64\n",
            " 41  psxview.not_in_pspcid_list_false_avg    58596 non-null  float64\n",
            " 42  psxview.not_in_csrss_handles_false_avg  58596 non-null  float64\n",
            " 43  psxview.not_in_session_false_avg        58596 non-null  float64\n",
            " 44  psxview.not_in_deskthrd_false_avg       58596 non-null  float64\n",
            " 45  modules.nmodules                        58596 non-null  int64  \n",
            " 46  svcscan.nservices                       58596 non-null  int64  \n",
            " 47  svcscan.kernel_drivers                  58596 non-null  int64  \n",
            " 48  svcscan.fs_drivers                      58596 non-null  int64  \n",
            " 49  svcscan.process_services                58596 non-null  int64  \n",
            " 50  svcscan.shared_process_services         58596 non-null  int64  \n",
            " 51  svcscan.interactive_process_services    58596 non-null  int64  \n",
            " 52  svcscan.nactive                         58596 non-null  int64  \n",
            " 53  callbacks.ncallbacks                    58596 non-null  int64  \n",
            " 54  callbacks.nanonymous                    58596 non-null  int64  \n",
            " 55  callbacks.ngeneric                      58596 non-null  int64  \n",
            " 56  Class                                   58596 non-null  object \n",
            "dtypes: float64(15), int64(40), object(2)\n",
            "memory usage: 25.5+ MB\n"
          ]
        }
      ]
    },
    {
      "cell_type": "code",
      "source": [
        "#Checking null values\n",
        "data.isnull().sum()"
      ],
      "metadata": {
        "colab": {
          "base_uri": "https://localhost:8080/"
        },
        "id": "-Hmqn46Jej0f",
        "outputId": "1a443e3a-90d8-451a-8792-0740f057c8ec"
      },
      "execution_count": 6,
      "outputs": [
        {
          "output_type": "execute_result",
          "data": {
            "text/plain": [
              "Category                                  0\n",
              "pslist.nproc                              0\n",
              "pslist.nppid                              0\n",
              "pslist.avg_threads                        0\n",
              "pslist.nprocs64bit                        0\n",
              "pslist.avg_handlers                       0\n",
              "dlllist.ndlls                             0\n",
              "dlllist.avg_dlls_per_proc                 0\n",
              "handles.nhandles                          0\n",
              "handles.avg_handles_per_proc              0\n",
              "handles.nport                             0\n",
              "handles.nfile                             0\n",
              "handles.nevent                            0\n",
              "handles.ndesktop                          0\n",
              "handles.nkey                              0\n",
              "handles.nthread                           0\n",
              "handles.ndirectory                        0\n",
              "handles.nsemaphore                        0\n",
              "handles.ntimer                            0\n",
              "handles.nsection                          0\n",
              "handles.nmutant                           0\n",
              "ldrmodules.not_in_load                    0\n",
              "ldrmodules.not_in_init                    0\n",
              "ldrmodules.not_in_mem                     0\n",
              "ldrmodules.not_in_load_avg                0\n",
              "ldrmodules.not_in_init_avg                0\n",
              "ldrmodules.not_in_mem_avg                 0\n",
              "malfind.ninjections                       0\n",
              "malfind.commitCharge                      0\n",
              "malfind.protection                        0\n",
              "malfind.uniqueInjections                  0\n",
              "psxview.not_in_pslist                     0\n",
              "psxview.not_in_eprocess_pool              0\n",
              "psxview.not_in_ethread_pool               0\n",
              "psxview.not_in_pspcid_list                0\n",
              "psxview.not_in_csrss_handles              0\n",
              "psxview.not_in_session                    0\n",
              "psxview.not_in_deskthrd                   0\n",
              "psxview.not_in_pslist_false_avg           0\n",
              "psxview.not_in_eprocess_pool_false_avg    0\n",
              "psxview.not_in_ethread_pool_false_avg     0\n",
              "psxview.not_in_pspcid_list_false_avg      0\n",
              "psxview.not_in_csrss_handles_false_avg    0\n",
              "psxview.not_in_session_false_avg          0\n",
              "psxview.not_in_deskthrd_false_avg         0\n",
              "modules.nmodules                          0\n",
              "svcscan.nservices                         0\n",
              "svcscan.kernel_drivers                    0\n",
              "svcscan.fs_drivers                        0\n",
              "svcscan.process_services                  0\n",
              "svcscan.shared_process_services           0\n",
              "svcscan.interactive_process_services      0\n",
              "svcscan.nactive                           0\n",
              "callbacks.ncallbacks                      0\n",
              "callbacks.nanonymous                      0\n",
              "callbacks.ngeneric                        0\n",
              "Class                                     0\n",
              "dtype: int64"
            ]
          },
          "metadata": {},
          "execution_count": 6
        }
      ]
    },
    {
      "cell_type": "code",
      "source": [
        "# Get the count of each category in the 'Category' column\n",
        "data[\"Category\"].value_counts()"
      ],
      "metadata": {
        "colab": {
          "base_uri": "https://localhost:8080/"
        },
        "id": "99Zfzr7Vejx8",
        "outputId": "5b59c31a-cf40-4893-d8a0-b5c9ad8abb73"
      },
      "execution_count": 46,
      "outputs": [
        {
          "output_type": "execute_result",
          "data": {
            "text/plain": [
              "Category\n",
              "Benign                                                                                     29298\n",
              "Spyware-Gator-1bdcd3b777965f67678748d2577b119a275aca9aed9549d45e64e692a54a7b5e-1.raw           2\n",
              "Spyware-Gator-1bfb316482877ee42e5a5078fef44c0eb51bc44c1e88ecbccd02ce4dc4694bd3-2.raw           2\n",
              "Spyware-Gator-1bfb316482877ee42e5a5078fef44c0eb51bc44c1e88ecbccd02ce4dc4694bd3-10.raw          2\n",
              "Spyware-Gator-1bfb316482877ee42e5a5078fef44c0eb51bc44c1e88ecbccd02ce4dc4694bd3-1.raw           2\n",
              "                                                                                           ...  \n",
              "Spyware-Gator-0b25829d15dc951a44e7652fc6de9d936d7d51f29586d56dbf8fccea419252ac-6.raw           1\n",
              "Spyware-Gator-0b25829d15dc951a44e7652fc6de9d936d7d51f29586d56dbf8fccea419252ac-5.raw           1\n",
              "Spyware-Gator-0b25829d15dc951a44e7652fc6de9d936d7d51f29586d56dbf8fccea419252ac-4.raw           1\n",
              "Spyware-Gator-0b25829d15dc951a44e7652fc6de9d936d7d51f29586d56dbf8fccea419252ac-3.raw           1\n",
              "Ransomware-Shade-955d9af38346c1755527bd196668edfad6d3f001d217b04d2380eb99e0760585-8.raw        1\n",
              "Name: count, Length: 28346, dtype: int64"
            ]
          },
          "metadata": {},
          "execution_count": 46
        }
      ]
    },
    {
      "cell_type": "code",
      "source": [
        "# Define a function to extract the main category\n",
        "def find_category(column):\n",
        "    if \"-\" in column:\n",
        "        category = column.split(\"-\")[0]\n",
        "        return category\n",
        "    else:\n",
        "        return column"
      ],
      "metadata": {
        "id": "JgFWAomzejvF"
      },
      "execution_count": 47,
      "outputs": []
    },
    {
      "cell_type": "code",
      "source": [
        "# Define a function to extract the category name\n",
        "def find_category_name(column):\n",
        "    if \"-\" in column:\n",
        "        category_name = column.split(\"-\")[1]\n",
        "        return category_name\n",
        "    else:\n",
        "        return column"
      ],
      "metadata": {
        "id": "GncNyyzgejsg"
      },
      "execution_count": 48,
      "outputs": []
    },
    {
      "cell_type": "code",
      "source": [
        "# Apply the find_category function to the 'Category' column\n",
        "data[\"category\"] = data[\"Category\"].apply(find_category)"
      ],
      "metadata": {
        "id": "esfQTp1Dejpz"
      },
      "execution_count": 49,
      "outputs": []
    },
    {
      "cell_type": "code",
      "source": [
        "# Get the count of each main category\n",
        "data[\"category\"].value_counts()"
      ],
      "metadata": {
        "colab": {
          "base_uri": "https://localhost:8080/"
        },
        "id": "WHMIHIVBejnB",
        "outputId": "aa270940-6590-4506-aa1d-e24926191f9b"
      },
      "execution_count": 50,
      "outputs": [
        {
          "output_type": "execute_result",
          "data": {
            "text/plain": [
              "category\n",
              "Benign        29298\n",
              "Spyware       10020\n",
              "Ransomware     9791\n",
              "Trojan         9487\n",
              "Name: count, dtype: int64"
            ]
          },
          "metadata": {},
          "execution_count": 50
        }
      ]
    },
    {
      "cell_type": "markdown",
      "source": [
        "EDA"
      ],
      "metadata": {
        "id": "9O8VgTaGlXKM"
      }
    },
    {
      "cell_type": "code",
      "source": [
        "# Plot the count of each main category\n",
        "sns.countplot(x=data[\"category\"])"
      ],
      "metadata": {
        "colab": {
          "base_uri": "https://localhost:8080/",
          "height": 467
        },
        "id": "UJ2BsN-Nejka",
        "outputId": "a4e731f1-ede8-435a-ca64-64cced977c17"
      },
      "execution_count": 51,
      "outputs": [
        {
          "output_type": "execute_result",
          "data": {
            "text/plain": [
              "<Axes: xlabel='category', ylabel='count'>"
            ]
          },
          "metadata": {},
          "execution_count": 51
        },
        {
          "output_type": "display_data",
          "data": {
            "text/plain": [
              "<Figure size 640x480 with 1 Axes>"
            ],
            "image/png": "[encoded data removed]"
          },
          "metadata": {}
        }
      ]
    },
    {
      "cell_type": "code",
      "source": [
        "# Plot the distribution of main categories as a pie chart\n",
        "data[\"category\"].value_counts().plot(kind=\"pie\", autopct=\"%.2f%%\")\n"
      ],
      "metadata": {
        "colab": {
          "base_uri": "https://localhost:8080/",
          "height": 424
        },
        "id": "xegA9iDRejiE",
        "outputId": "f8c69a57-1cf5-4865-8dba-e5b0e84f7aed"
      },
      "execution_count": 52,
      "outputs": [
        {
          "output_type": "execute_result",
          "data": {
            "text/plain": [
              "<Axes: ylabel='count'>"
            ]
          },
          "metadata": {},
          "execution_count": 52
        },
        {
          "output_type": "display_data",
          "data": {
            "text/plain": [
              "<Figure size 640x480 with 1 Axes>"
            ],
            "image/png": "[encoded data removed]"
          },
          "metadata": {}
        }
      ]
    },
    {
      "cell_type": "code",
      "source": [
        "data[\"category_name\"] = data[\"Category\"].apply(find_category_name)"
      ],
      "metadata": {
        "id": "gORjYAK8ejdk"
      },
      "execution_count": 54,
      "outputs": []
    },
    {
      "cell_type": "code",
      "source": [
        "# Get the count of each category name\n",
        "data[\"category_name\"].value_counts()"
      ],
      "metadata": {
        "colab": {
          "base_uri": "https://localhost:8080/"
        },
        "id": "GpKnHn__ejbB",
        "outputId": "da4a967f-3e61-4966-f375-18e8118355ef"
      },
      "execution_count": 55,
      "outputs": [
        {
          "output_type": "execute_result",
          "data": {
            "text/plain": [
              "category_name\n",
              "Benign          29298\n",
              "Transponder      2410\n",
              "Gator            2200\n",
              "Shade            2128\n",
              "Ako              2000\n",
              "180solutions     2000\n",
              "CWS              2000\n",
              "Refroso          2000\n",
              "Scar             2000\n",
              "Conti            1988\n",
              "Emotet           1967\n",
              "Maze             1958\n",
              "Zeus             1950\n",
              "Pysa             1717\n",
              "Reconyc          1570\n",
              "TIBS             1410\n",
              "Name: count, dtype: int64"
            ]
          },
          "metadata": {},
          "execution_count": 55
        }
      ]
    },
    {
      "cell_type": "code",
      "source": [
        "# Plot the count of each category name\n",
        "plt.figure()\n",
        "sns.countplot(x=data[\"category_name\"])\n",
        "plt.xticks(rotation=90)\n",
        "plt.show()"
      ],
      "metadata": {
        "colab": {
          "base_uri": "https://localhost:8080/",
          "height": 524
        },
        "id": "LjaKsAzcejW0",
        "outputId": "01d7f1ab-9985-4c31-aec1-83d3186475c0"
      },
      "execution_count": 56,
      "outputs": [
        {
          "output_type": "display_data",
          "data": {
            "text/plain": [
              "<Figure size 640x480 with 1 Axes>"
            ],
            "image/png": "[encoded data removed]"
          },
          "metadata": {}
        }
      ]
    },
    {
      "cell_type": "code",
      "source": [
        "data[\"category_name\"].value_counts().plot(kind=\"pie\", autopct=\"%.2f%%\")"
      ],
      "metadata": {
        "colab": {
          "base_uri": "https://localhost:8080/",
          "height": 424
        },
        "id": "cghjTkppejUB",
        "outputId": "3ab2013d-7551-4f81-c433-c1d8a944e612"
      },
      "execution_count": 19,
      "outputs": [
        {
          "output_type": "execute_result",
          "data": {
            "text/plain": [
              "<Axes: ylabel='count'>"
            ]
          },
          "metadata": {},
          "execution_count": 19
        },
        {
          "output_type": "display_data",
          "data": {
            "text/plain": [
              "<Figure size 640x480 with 1 Axes>"
            ],
            "image/png": "[encoded data removed]"
          },
          "metadata": {}
        }
      ]
    },
    {
      "cell_type": "code",
      "execution_count": 57,
      "metadata": {
        "id": "2ecvCxWsehVp"
      },
      "outputs": [],
      "source": [
        "# Define a function to encode categorical columns\n",
        "from sklearn.preprocessing import LabelEncoder\n",
        "\n",
        "def label_encoder(column):\n",
        "    le = LabelEncoder().fit(column)\n",
        "    print(column.name, le.classes_)\n",
        "    return le.transform(column)"
      ]
    },
    {
      "cell_type": "code",
      "source": [
        "# Encode the 'category' column\n",
        "data[\"category\"] = label_encoder(data[\"category\"])\n",
        "data[\"category_name\"] = label_encoder(data[\"category_name\"]) # Encode the 'category_name' column\n",
        "data[\"class\"] = label_encoder(data[\"Class\"]) # Encode the 'Class' column"
      ],
      "metadata": {
        "colab": {
          "base_uri": "https://localhost:8080/"
        },
        "id": "MEnXeubslU2I",
        "outputId": "f6ec9311-f2c7-4de2-9b57-452babe3cf4f"
      },
      "execution_count": 58,
      "outputs": [
        {
          "output_type": "stream",
          "name": "stdout",
          "text": [
            "category ['Benign' 'Ransomware' 'Spyware' 'Trojan']\n",
            "category_name ['180solutions' 'Ako' 'Benign' 'CWS' 'Conti' 'Emotet' 'Gator' 'Maze'\n",
            " 'Pysa' 'Reconyc' 'Refroso' 'Scar' 'Shade' 'TIBS' 'Transponder' 'Zeus']\n",
            "Class ['Benign' 'Malware']\n"
          ]
        }
      ]
    },
    {
      "cell_type": "code",
      "source": [
        "data.drop([\"Category\", \"Class\"], axis=1, inplace=True) # Drop the original 'Category' and 'Class' columns"
      ],
      "metadata": {
        "id": "5y0SZNnClUzo"
      },
      "execution_count": 59,
      "outputs": []
    },
    {
      "cell_type": "code",
      "source": [
        "data.head(10)"
      ],
      "metadata": {
        "colab": {
          "base_uri": "https://localhost:8080/",
          "height": 412
        },
        "id": "4UIC-hc3lUw2",
        "outputId": "f63649c9-e5b9-4fc8-eb65-06dcaccac956"
      },
      "execution_count": 23,
      "outputs": [
        {
          "output_type": "execute_result",
          "data": {
            "text/plain": [
              "   pslist.nproc  pslist.nppid  pslist.avg_threads  pslist.nprocs64bit  \\\n",
              "0            45            17           10.555556                   0   \n",
              "1            47            19           11.531915                   0   \n",
              "2            40            14           14.725000                   0   \n",
              "3            32            13           13.500000                   0   \n",
              "4            42            16           11.452381                   0   \n",
              "5            40            12           13.800000                   0   \n",
              "6            43            13           13.813953                   0   \n",
              "7            42            16           11.452381                   0   \n",
              "8            42            16           11.452381                   0   \n",
              "9            40            12           13.875000                   0   \n",
              "\n",
              "   pslist.avg_handlers  dlllist.ndlls  dlllist.avg_dlls_per_proc  \\\n",
              "0           202.844444           1694                  38.500000   \n",
              "1           242.234043           2074                  44.127660   \n",
              "2           288.225000           1932                  48.300000   \n",
              "3           264.281250           1445                  45.156250   \n",
              "4           281.333333           2067                  49.214286   \n",
              "5           306.950000           2082                  52.050000   \n",
              "6           305.023256           2169                  50.441860   \n",
              "7           281.404762           2067                  49.214286   \n",
              "8           281.261905           2067                  49.214286   \n",
              "9           308.000000           2082                  52.050000   \n",
              "\n",
              "   handles.nhandles  handles.avg_handles_per_proc  handles.nport  ...  \\\n",
              "0              9129                    212.302326              0  ...   \n",
              "1             11385                    242.234043              0  ...   \n",
              "2             11529                    288.225000              0  ...   \n",
              "3              8457                    264.281250              0  ...   \n",
              "4             11816                    281.333333              0  ...   \n",
              "5             12278                    306.950000              0  ...   \n",
              "6             13116                    305.023256              0  ...   \n",
              "7             11819                    281.404762              0  ...   \n",
              "8             11813                    281.261905              0  ...   \n",
              "9             12320                    308.000000              0  ...   \n",
              "\n",
              "   svcscan.process_services  svcscan.shared_process_services  \\\n",
              "0                        24                              116   \n",
              "1                        24                              118   \n",
              "2                        27                              118   \n",
              "3                        27                              118   \n",
              "4                        24                              118   \n",
              "5                        27                              118   \n",
              "6                        27                              118   \n",
              "7                        24                              118   \n",
              "8                        24                              118   \n",
              "9                        27                              118   \n",
              "\n",
              "   svcscan.interactive_process_services  svcscan.nactive  \\\n",
              "0                                     0              121   \n",
              "1                                     0              122   \n",
              "2                                     0              120   \n",
              "3                                     0              120   \n",
              "4                                     0              124   \n",
              "5                                     0              123   \n",
              "6                                     0              123   \n",
              "7                                     0              124   \n",
              "8                                     0              124   \n",
              "9                                     0              123   \n",
              "\n",
              "   callbacks.ncallbacks  callbacks.nanonymous  callbacks.ngeneric  category  \\\n",
              "0                    87                     0                   8         0   \n",
              "1                    87                     0                   8         0   \n",
              "2                    88                     0                   8         0   \n",
              "3                    88                     0                   8         0   \n",
              "4                    87                     0                   8         0   \n",
              "5                    88                     0                   8         0   \n",
              "6                    88                     0                   8         0   \n",
              "7                    87                     0                   8         0   \n",
              "8                    87                     0                   8         0   \n",
              "9                    88                     0                   8         0   \n",
              "\n",
              "   category_name  class  \n",
              "0              2      0  \n",
              "1              2      0  \n",
              "2              2      0  \n",
              "3              2      0  \n",
              "4              2      0  \n",
              "5              2      0  \n",
              "6              2      0  \n",
              "7              2      0  \n",
              "8              2      0  \n",
              "9              2      0  \n",
              "\n",
              "[10 rows x 58 columns]"
            ],
            "text/html": [
              "\n",
              "  <div id=\"df-1727c0c8-cfd4-4b69-8d44-6d8b9b917b04\" class=\"colab-df-container\">\n",
              "    <div>\n",
              "<style scoped>\n",
              "    .dataframe tbody tr th:only-of-type {\n",
              "        vertical-align: middle;\n",
              "    }\n",
              "\n",
              "    .dataframe tbody tr th {\n",
              "        vertical-align: top;\n",
              "    }\n",
              "\n",
              "    .dataframe thead th {\n",
              "        text-align: right;\n",
              "    }\n",
              "</style>\n",
              "<table border=\"1\" class=\"dataframe\">\n",
              "  <thead>\n",
              "    <tr style=\"text-align: right;\">\n",
              "      <th></th>\n",
              "      <th>pslist.nproc</th>\n",
              "      <th>pslist.nppid</th>\n",
              "      <th>pslist.avg_threads</th>\n",
              "      <th>pslist.nprocs64bit</th>\n",
              "      <th>pslist.avg_handlers</th>\n",
              "      <th>dlllist.ndlls</th>\n",
              "      <th>dlllist.avg_dlls_per_proc</th>\n",
              "      <th>handles.nhandles</th>\n",
              "      <th>handles.avg_handles_per_proc</th>\n",
              "      <th>handles.nport</th>\n",
              "      <th>...</th>\n",
              "      <th>svcscan.process_services</th>\n",
              "      <th>svcscan.shared_process_services</th>\n",
              "      <th>svcscan.interactive_process_services</th>\n",
              "      <th>svcscan.nactive</th>\n",
              "      <th>callbacks.ncallbacks</th>\n",
              "      <th>callbacks.nanonymous</th>\n",
              "      <th>callbacks.ngeneric</th>\n",
              "      <th>category</th>\n",
              "      <th>category_name</th>\n",
              "      <th>class</th>\n",
              "    </tr>\n",
              "  </thead>\n",
              "  <tbody>\n",
              "    <tr>\n",
              "      <th>0</th>\n",
              "      <td>45</td>\n",
              "      <td>17</td>\n",
              "      <td>10.555556</td>\n",
              "      <td>0</td>\n",
              "      <td>202.844444</td>\n",
              "      <td>1694</td>\n",
              "      <td>38.500000</td>\n",
              "      <td>9129</td>\n",
              "      <td>212.302326</td>\n",
              "      <td>0</td>\n",
              "      <td>...</td>\n",
              "      <td>24</td>\n",
              "      <td>116</td>\n",
              "      <td>0</td>\n",
              "      <td>121</td>\n",
              "      <td>87</td>\n",
              "      <td>0</td>\n",
              "      <td>8</td>\n",
              "      <td>0</td>\n",
              "      <td>2</td>\n",
              "      <td>0</td>\n",
              "    </tr>\n",
              "    <tr>\n",
              "      <th>1</th>\n",
              "      <td>47</td>\n",
              "      <td>19</td>\n",
              "      <td>11.531915</td>\n",
              "      <td>0</td>\n",
              "      <td>242.234043</td>\n",
              "      <td>2074</td>\n",
              "      <td>44.127660</td>\n",
              "      <td>11385</td>\n",
              "      <td>242.234043</td>\n",
              "      <td>0</td>\n",
              "      <td>...</td>\n",
              "      <td>24</td>\n",
              "      <td>118</td>\n",
              "      <td>0</td>\n",
              "      <td>122</td>\n",
              "      <td>87</td>\n",
              "      <td>0</td>\n",
              "      <td>8</td>\n",
              "      <td>0</td>\n",
              "      <td>2</td>\n",
              "      <td>0</td>\n",
              "    </tr>\n",
              "    <tr>\n",
              "      <th>2</th>\n",
              "      <td>40</td>\n",
              "      <td>14</td>\n",
              "      <td>14.725000</td>\n",
              "      <td>0</td>\n",
              "      <td>288.225000</td>\n",
              "      <td>1932</td>\n",
              "      <td>48.300000</td>\n",
              "      <td>11529</td>\n",
              "      <td>288.225000</td>\n",
              "      <td>0</td>\n",
              "      <td>...</td>\n",
              "      <td>27</td>\n",
              "      <td>118</td>\n",
              "      <td>0</td>\n",
              "      <td>120</td>\n",
              "      <td>88</td>\n",
              "      <td>0</td>\n",
              "      <td>8</td>\n",
              "      <td>0</td>\n",
              "      <td>2</td>\n",
              "      <td>0</td>\n",
              "    </tr>\n",
              "    <tr>\n",
              "      <th>3</th>\n",
              "      <td>32</td>\n",
              "      <td>13</td>\n",
              "      <td>13.500000</td>\n",
              "      <td>0</td>\n",
              "      <td>264.281250</td>\n",
              "      <td>1445</td>\n",
              "      <td>45.156250</td>\n",
              "      <td>8457</td>\n",
              "      <td>264.281250</td>\n",
              "      <td>0</td>\n",
              "      <td>...</td>\n",
              "      <td>27</td>\n",
              "      <td>118</td>\n",
              "      <td>0</td>\n",
              "      <td>120</td>\n",
              "      <td>88</td>\n",
              "      <td>0</td>\n",
              "      <td>8</td>\n",
              "      <td>0</td>\n",
              "      <td>2</td>\n",
              "      <td>0</td>\n",
              "    </tr>\n",
              "    <tr>\n",
              "      <th>4</th>\n",
              "      <td>42</td>\n",
              "      <td>16</td>\n",
              "      <td>11.452381</td>\n",
              "      <td>0</td>\n",
              "      <td>281.333333</td>\n",
              "      <td>2067</td>\n",
              "      <td>49.214286</td>\n",
              "      <td>11816</td>\n",
              "      <td>281.333333</td>\n",
              "      <td>0</td>\n",
              "      <td>...</td>\n",
              "      <td>24</td>\n",
              "      <td>118</td>\n",
              "      <td>0</td>\n",
              "      <td>124</td>\n",
              "      <td>87</td>\n",
              "      <td>0</td>\n",
              "      <td>8</td>\n",
              "      <td>0</td>\n",
              "      <td>2</td>\n",
              "      <td>0</td>\n",
              "    </tr>\n",
              "    <tr>\n",
              "      <th>5</th>\n",
              "      <td>40</td>\n",
              "      <td>12</td>\n",
              "      <td>13.800000</td>\n",
              "      <td>0</td>\n",
              "      <td>306.950000</td>\n",
              "      <td>2082</td>\n",
              "      <td>52.050000</td>\n",
              "      <td>12278</td>\n",
              "      <td>306.950000</td>\n",
              "      <td>0</td>\n",
              "      <td>...</td>\n",
              "      <td>27</td>\n",
              "      <td>118</td>\n",
              "      <td>0</td>\n",
              "      <td>123</td>\n",
              "      <td>88</td>\n",
              "      <td>0</td>\n",
              "      <td>8</td>\n",
              "      <td>0</td>\n",
              "      <td>2</td>\n",
              "      <td>0</td>\n",
              "    </tr>\n",
              "    <tr>\n",
              "      <th>6</th>\n",
              "      <td>43</td>\n",
              "      <td>13</td>\n",
              "      <td>13.813953</td>\n",
              "      <td>0</td>\n",
              "      <td>305.023256</td>\n",
              "      <td>2169</td>\n",
              "      <td>50.441860</td>\n",
              "      <td>13116</td>\n",
              "      <td>305.023256</td>\n",
              "      <td>0</td>\n",
              "      <td>...</td>\n",
              "      <td>27</td>\n",
              "      <td>118</td>\n",
              "      <td>0</td>\n",
              "      <td>123</td>\n",
              "      <td>88</td>\n",
              "      <td>0</td>\n",
              "      <td>8</td>\n",
              "      <td>0</td>\n",
              "      <td>2</td>\n",
              "      <td>0</td>\n",
              "    </tr>\n",
              "    <tr>\n",
              "      <th>7</th>\n",
              "      <td>42</td>\n",
              "      <td>16</td>\n",
              "      <td>11.452381</td>\n",
              "      <td>0</td>\n",
              "      <td>281.404762</td>\n",
              "      <td>2067</td>\n",
              "      <td>49.214286</td>\n",
              "      <td>11819</td>\n",
              "      <td>281.404762</td>\n",
              "      <td>0</td>\n",
              "      <td>...</td>\n",
              "      <td>24</td>\n",
              "      <td>118</td>\n",
              "      <td>0</td>\n",
              "      <td>124</td>\n",
              "      <td>87</td>\n",
              "      <td>0</td>\n",
              "      <td>8</td>\n",
              "      <td>0</td>\n",
              "      <td>2</td>\n",
              "      <td>0</td>\n",
              "    </tr>\n",
              "    <tr>\n",
              "      <th>8</th>\n",
              "      <td>42</td>\n",
              "      <td>16</td>\n",
              "      <td>11.452381</td>\n",
              "      <td>0</td>\n",
              "      <td>281.261905</td>\n",
              "      <td>2067</td>\n",
              "      <td>49.214286</td>\n",
              "      <td>11813</td>\n",
              "      <td>281.261905</td>\n",
              "      <td>0</td>\n",
              "      <td>...</td>\n",
              "      <td>24</td>\n",
              "      <td>118</td>\n",
              "      <td>0</td>\n",
              "      <td>124</td>\n",
              "      <td>87</td>\n",
              "      <td>0</td>\n",
              "      <td>8</td>\n",
              "      <td>0</td>\n",
              "      <td>2</td>\n",
              "      <td>0</td>\n",
              "    </tr>\n",
              "    <tr>\n",
              "      <th>9</th>\n",
              "      <td>40</td>\n",
              "      <td>12</td>\n",
              "      <td>13.875000</td>\n",
              "      <td>0</td>\n",
              "      <td>308.000000</td>\n",
              "      <td>2082</td>\n",
              "      <td>52.050000</td>\n",
              "      <td>12320</td>\n",
              "      <td>308.000000</td>\n",
              "      <td>0</td>\n",
              "      <td>...</td>\n",
              "      <td>27</td>\n",
              "      <td>118</td>\n",
              "      <td>0</td>\n",
              "      <td>123</td>\n",
              "      <td>88</td>\n",
              "      <td>0</td>\n",
              "      <td>8</td>\n",
              "      <td>0</td>\n",
              "      <td>2</td>\n",
              "      <td>0</td>\n",
              "    </tr>\n",
              "  </tbody>\n",
              "</table>\n",
              "<p>10 rows × 58 columns</p>\n",
              "</div>\n",
              "    <div class=\"colab-df-buttons\">\n",
              "\n",
              "  <div class=\"colab-df-container\">\n",
              "    <button class=\"colab-df-convert\" onclick=\"convertToInteractive('df-1727c0c8-cfd4-4b69-8d44-6d8b9b917b04')\"\n",
              "            title=\"Convert this dataframe to an interactive table.\"\n",
              "            style=\"display:none;\">\n",
              "\n",
              "  <svg xmlns=\"http://www.w3.org/2000/svg\" height=\"24px\" viewBox=\"0 -960 960 960\">\n",
              "    <path d=\"M120-120v-720h720v720H120Zm60-500h600v-160H180v160Zm220 220h160v-160H400v160Zm0 220h160v-160H400v160ZM180-400h160v-160H180v160Zm440 0h160v-160H620v160ZM180-180h160v-160H180v160Zm440 0h160v-160H620v160Z\"/>\n",
              "  </svg>\n",
              "    </button>\n",
              "\n",
              "  <style>\n",
              "    .colab-df-container {\n",
              "      display:flex;\n",
              "      gap: 12px;\n",
              "    }\n",
              "\n",
              "    .colab-df-convert {\n",
              "      background-color: #E8F0FE;\n",
              "      border: none;\n",
              "      border-radius: 50%;\n",
              "      cursor: pointer;\n",
              "      display: none;\n",
              "      fill: #1967D2;\n",
              "      height: 32px;\n",
              "      padding: 0 0 0 0;\n",
              "      width: 32px;\n",
              "    }\n",
              "\n",
              "    .colab-df-convert:hover {\n",
              "      background-color: #E2EBFA;\n",
              "      box-shadow: 0px 1px 2px rgba(60, 64, 67, 0.3), 0px 1px 3px 1px rgba(60, 64, 67, 0.15);\n",
              "      fill: #174EA6;\n",
              "    }\n",
              "\n",
              "    .colab-df-buttons div {\n",
              "      margin-bottom: 4px;\n",
              "    }\n",
              "\n",
              "    [theme=dark] .colab-df-convert {\n",
              "      background-color: #3B4455;\n",
              "      fill: #D2E3FC;\n",
              "    }\n",
              "\n",
              "    [theme=dark] .colab-df-convert:hover {\n",
              "      background-color: #434B5C;\n",
              "      box-shadow: 0px 1px 3px 1px rgba(0, 0, 0, 0.15);\n",
              "      filter: drop-shadow(0px 1px 2px rgba(0, 0, 0, 0.3));\n",
              "      fill: #FFFFFF;\n",
              "    }\n",
              "  </style>\n",
              "\n",
              "    <script>\n",
              "      const buttonEl =\n",
              "        document.querySelector('#df-1727c0c8-cfd4-4b69-8d44-6d8b9b917b04 button.colab-df-convert');\n",
              "      buttonEl.style.display =\n",
              "        google.colab.kernel.accessAllowed ? 'block' : 'none';\n",
              "\n",
              "      async function convertToInteractive(key) {\n",
              "        const element = document.querySelector('#df-1727c0c8-cfd4-4b69-8d44-6d8b9b917b04');\n",
              "        const dataTable =\n",
              "          await google.colab.kernel.invokeFunction('convertToInteractive',\n",
              "                                                    [key], {});\n",
              "        if (!dataTable) return;\n",
              "\n",
              "        const docLinkHtml = 'Like what you see? Visit the ' +\n",
              "          '<a target=\"_blank\" href=https://colab.research.google.com/notebooks/data_table.ipynb>data table notebook</a>'\n",
              "          + ' to learn more about interactive tables.';\n",
              "        element.innerHTML = '';\n",
              "        dataTable['output_type'] = 'display_data';\n",
              "        await google.colab.output.renderOutput(dataTable, element);\n",
              "        const docLink = document.createElement('div');\n",
              "        docLink.innerHTML = docLinkHtml;\n",
              "        element.appendChild(docLink);\n",
              "      }\n",
              "    </script>\n",
              "  </div>\n",
              "\n",
              "\n",
              "<div id=\"df-acf0270e-ac3b-4c12-aef8-6ce82b6c2c0b\">\n",
              "  <button class=\"colab-df-quickchart\" onclick=\"quickchart('df-acf0270e-ac3b-4c12-aef8-6ce82b6c2c0b')\"\n",
              "            title=\"Suggest charts\"\n",
              "            style=\"display:none;\">\n",
              "\n",
              "<svg xmlns=\"http://www.w3.org/2000/svg\" height=\"24px\"viewBox=\"0 0 24 24\"\n",
              "     width=\"24px\">\n",
              "    <g>\n",
              "        <path d=\"M19 3H5c-1.1 0-2 .9-2 2v14c0 1.1.9 2 2 2h14c1.1 0 2-.9 2-2V5c0-1.1-.9-2-2-2zM9 17H7v-7h2v7zm4 0h-2V7h2v10zm4 0h-2v-4h2v4z\"/>\n",
              "    </g>\n",
              "</svg>\n",
              "  </button>\n",
              "\n",
              "<style>\n",
              "  .colab-df-quickchart {\n",
              "      --bg-color: #E8F0FE;\n",
              "      --fill-color: #1967D2;\n",
              "      --hover-bg-color: #E2EBFA;\n",
              "      --hover-fill-color: #174EA6;\n",
              "      --disabled-fill-color: #AAA;\n",
              "      --disabled-bg-color: #DDD;\n",
              "  }\n",
              "\n",
              "  [theme=dark] .colab-df-quickchart {\n",
              "      --bg-color: #3B4455;\n",
              "      --fill-color: #D2E3FC;\n",
              "      --hover-bg-color: #434B5C;\n",
              "      --hover-fill-color: #FFFFFF;\n",
              "      --disabled-bg-color: #3B4455;\n",
              "      --disabled-fill-color: #666;\n",
              "  }\n",
              "\n",
              "  .colab-df-quickchart {\n",
              "    background-color: var(--bg-color);\n",
              "    border: none;\n",
              "    border-radius: 50%;\n",
              "    cursor: pointer;\n",
              "    display: none;\n",
              "    fill: var(--fill-color);\n",
              "    height: 32px;\n",
              "    padding: 0;\n",
              "    width: 32px;\n",
              "  }\n",
              "\n",
              "  .colab-df-quickchart:hover {\n",
              "    background-color: var(--hover-bg-color);\n",
              "    box-shadow: 0 1px 2px rgba(60, 64, 67, 0.3), 0 1px 3px 1px rgba(60, 64, 67, 0.15);\n",
              "    fill: var(--button-hover-fill-color);\n",
              "  }\n",
              "\n",
              "  .colab-df-quickchart-complete:disabled,\n",
              "  .colab-df-quickchart-complete:disabled:hover {\n",
              "    background-color: var(--disabled-bg-color);\n",
              "    fill: var(--disabled-fill-color);\n",
              "    box-shadow: none;\n",
              "  }\n",
              "\n",
              "  .colab-df-spinner {\n",
              "    border: 2px solid var(--fill-color);\n",
              "    border-color: transparent;\n",
              "    border-bottom-color: var(--fill-color);\n",
              "    animation:\n",
              "      spin 1s steps(1) infinite;\n",
              "  }\n",
              "\n",
              "  @keyframes spin {\n",
              "    0% {\n",
              "      border-color: transparent;\n",
              "      border-bottom-color: var(--fill-color);\n",
              "      border-left-color: var(--fill-color);\n",
              "    }\n",
              "    20% {\n",
              "      border-color: transparent;\n",
              "      border-left-color: var(--fill-color);\n",
              "      border-top-color: var(--fill-color);\n",
              "    }\n",
              "    30% {\n",
              "      border-color: transparent;\n",
              "      border-left-color: var(--fill-color);\n",
              "      border-top-color: var(--fill-color);\n",
              "      border-right-color: var(--fill-color);\n",
              "    }\n",
              "    40% {\n",
              "      border-color: transparent;\n",
              "      border-right-color: var(--fill-color);\n",
              "      border-top-color: var(--fill-color);\n",
              "    }\n",
              "    60% {\n",
              "      border-color: transparent;\n",
              "      border-right-color: var(--fill-color);\n",
              "    }\n",
              "    80% {\n",
              "      border-color: transparent;\n",
              "      border-right-color: var(--fill-color);\n",
              "      border-bottom-color: var(--fill-color);\n",
              "    }\n",
              "    90% {\n",
              "      border-color: transparent;\n",
              "      border-bottom-color: var(--fill-color);\n",
              "    }\n",
              "  }\n",
              "</style>\n",
              "\n",
              "  <script>\n",
              "    async function quickchart(key) {\n",
              "      const quickchartButtonEl =\n",
              "        document.querySelector('#' + key + ' button');\n",
              "      quickchartButtonEl.disabled = true;  // To prevent multiple clicks.\n",
              "      quickchartButtonEl.classList.add('colab-df-spinner');\n",
              "      try {\n",
              "        const charts = await google.colab.kernel.invokeFunction(\n",
              "            'suggestCharts', [key], {});\n",
              "      } catch (error) {\n",
              "        console.error('Error during call to suggestCharts:', error);\n",
              "      }\n",
              "      quickchartButtonEl.classList.remove('colab-df-spinner');\n",
              "      quickchartButtonEl.classList.add('colab-df-quickchart-complete');\n",
              "    }\n",
              "    (() => {\n",
              "      let quickchartButtonEl =\n",
              "        document.querySelector('#df-acf0270e-ac3b-4c12-aef8-6ce82b6c2c0b button');\n",
              "      quickchartButtonEl.style.display =\n",
              "        google.colab.kernel.accessAllowed ? 'block' : 'none';\n",
              "    })();\n",
              "  </script>\n",
              "</div>\n",
              "\n",
              "    </div>\n",
              "  </div>\n"
            ],
            "application/vnd.google.colaboratory.intrinsic+json": {
              "type": "dataframe",
              "variable_name": "data"
            }
          },
          "metadata": {},
          "execution_count": 23
        }
      ]
    },
    {
      "cell_type": "code",
      "source": [
        "# Split the data into features (X) and target (y)\n",
        "X = data.drop(\"class\", axis=1)\n",
        "y = data[\"class\"]"
      ],
      "metadata": {
        "id": "XFvaxrZWlUue"
      },
      "execution_count": 61,
      "outputs": []
    },
    {
      "cell_type": "code",
      "source": [
        "from sklearn.preprocessing import StandardScaler\n",
        "# Standardize the features\n",
        "ss = StandardScaler()\n",
        "X_scaled = ss.fit_transform(X)"
      ],
      "metadata": {
        "id": "itVOLNsFlUr9"
      },
      "execution_count": 60,
      "outputs": []
    },
    {
      "cell_type": "code",
      "source": [
        "from sklearn.model_selection import train_test_split\n",
        "X_train, X_test, y_train, y_test = train_test_split(X_scaled, y, test_size=0.3, random_state=42)"
      ],
      "metadata": {
        "id": "GOEOnPOwlUpY"
      },
      "execution_count": 27,
      "outputs": []
    },
    {
      "cell_type": "code",
      "source": [
        "from sklearn.linear_model import LogisticRegression\n",
        "from sklearn.tree import DecisionTreeClassifier\n",
        "from xgboost import XGBClassifier\n",
        "from sklearn.metrics import accuracy_score, f1_score, precision_score, recall_score, roc_auc_score, roc_curve"
      ],
      "metadata": {
        "id": "uqEFML7ylUm9"
      },
      "execution_count": 40,
      "outputs": []
    },
    {
      "cell_type": "markdown",
      "source": [
        "Initialize classifiers\n"
      ],
      "metadata": {
        "id": "q6zGle_E0YaO"
      }
    },
    {
      "cell_type": "code",
      "source": [
        "logreg = LogisticRegression()"
      ],
      "metadata": {
        "id": "QaLW7OK9mKn0"
      },
      "execution_count": 29,
      "outputs": []
    },
    {
      "cell_type": "code",
      "source": [
        "dt = DecisionTreeClassifier()"
      ],
      "metadata": {
        "id": "-AWlYdfhmKla"
      },
      "execution_count": 30,
      "outputs": []
    },
    {
      "cell_type": "code",
      "source": [
        "xgb = XGBClassifier()"
      ],
      "metadata": {
        "id": "FlDGWOYTmKjX"
      },
      "execution_count": 31,
      "outputs": []
    },
    {
      "cell_type": "code",
      "source": [
        "clfs = [\n",
        "    (\"Logistic Regression\", logreg),\n",
        "    (\"Decision Tree\", dt),\n",
        "    (\"Extreme Gradient Boosting\", xgb)\n",
        "]"
      ],
      "metadata": {
        "id": "-5D2JBCLmKhZ"
      },
      "execution_count": 64,
      "outputs": []
    },
    {
      "cell_type": "code",
      "source": [
        "scores_data_cols = [\"Model Name\", \"Accuracy Score\", \"F1 Score\", \"Precision Score\", \"Recall Score\"]\n",
        "scores_data = pd.DataFrame(columns=scores_data_cols)"
      ],
      "metadata": {
        "id": "cOcW-6ormKfb"
      },
      "execution_count": 63,
      "outputs": []
    },
    {
      "cell_type": "code",
      "source": [
        "# Train each classifier and calculate the evaluation metrics\n",
        "for clf_name, clf in clfs:\n",
        "    clf.fit(X_train, y_train)\n",
        "    y_pred = clf.predict(X_test)\n",
        "    new_row = pd.DataFrame([{\n",
        "        \"Model Name\": clf_name,\n",
        "        \"Accuracy Score\": accuracy_score(y_test, y_pred),\n",
        "        \"F1 Score\": f1_score(y_test, y_pred),\n",
        "        \"Precision Score\": precision_score(y_test, y_pred),\n",
        "        \"Recall Score\": recall_score(y_test, y_pred)\n",
        "    }])\n",
        "    scores_data = pd.concat([scores_data, new_row], ignore_index=True)\n",
        "\n",
        "print(scores_data)"
      ],
      "metadata": {
        "colab": {
          "base_uri": "https://localhost:8080/"
        },
        "id": "AVo8y6CdmKdG",
        "outputId": "fd5d2340-fe5f-407e-cb35-7774c177dc65"
      },
      "execution_count": 65,
      "outputs": [
        {
          "output_type": "stream",
          "name": "stdout",
          "text": [
            "                  Model Name  Accuracy Score  F1 Score  Precision Score  \\\n",
            "0        Logistic Regression        0.999886  0.999887              1.0   \n",
            "1              Decision Tree        1.000000  1.000000              1.0   \n",
            "2  Extreme Gradient Boosting        1.000000  1.000000              1.0   \n",
            "\n",
            "   Recall Score  \n",
            "0      0.999773  \n",
            "1      1.000000  \n",
            "2      1.000000  \n"
          ]
        }
      ]
    },
    {
      "cell_type": "code",
      "source": [
        "# Train classifiers and record scores\n",
        "for clf_name, clf in clfs:\n",
        "    clf.fit(X_train, y_train)\n",
        "    y_pred = clf.predict(X_test)\n",
        "    y_prob = clf.predict_proba(X_test)[:, 1]  # Probability estimates\n",
        "    fpr, tpr, _ = roc_curve(y_test, y_prob)\n",
        "    auc = roc_auc_score(y_test, y_prob)\n",
        "\n",
        "    new_row = pd.DataFrame([{\n",
        "        \"Model Name\": clf_name,\n",
        "        \"Accuracy Score\": accuracy_score(y_test, y_pred),\n",
        "        \"F1 Score\": f1_score(y_test, y_pred),\n",
        "        \"Precision Score\": precision_score(y_test, y_pred),\n",
        "        \"Recall Score\": recall_score(y_test, y_pred),\n",
        "        \"AUC-ROC\": auc\n",
        "    }])\n",
        "    scores_data = pd.concat([scores_data, new_row], ignore_index=True)\n",
        "\n",
        "    # Plot ROC curve\n",
        "    plt.plot(fpr, tpr, label=f\"{clf_name} (AUC = {auc:.2f})\")\n",
        "\n",
        "# Plot ROC curve details\n",
        "plt.plot([0, 1], [0, 1], color='navy', linestyle='--')\n",
        "plt.xlabel(\"False Positive Rate\")\n",
        "plt.ylabel(\"True Positive Rate\")\n",
        "plt.title(\"Receiver Operating Characteristic (ROC) Curve\")\n",
        "plt.legend(loc=\"lower right\")\n",
        "plt.show()"
      ],
      "metadata": {
        "colab": {
          "base_uri": "https://localhost:8080/",
          "height": 472
        },
        "id": "ZYgmItBdxhC6",
        "outputId": "b36050b3-1b9f-4cdb-dc9b-c61b2c202cee"
      },
      "execution_count": 43,
      "outputs": [
        {
          "output_type": "display_data",
          "data": {
            "text/plain": [
              "<Figure size 640x480 with 1 Axes>"
            ],
            "image/png": "[encoded data removed]"
          },
          "metadata": {}
        }
      ]
    },
    {
      "cell_type": "code",
      "source": [
        "# Extract the scores for plotting\n",
        "model_names = scores_data[\"Model Name\"].values\n",
        "accuracy_scores = scores_data[\"Accuracy Score\"].values\n",
        "f1_scores = scores_data[\"F1 Score\"].values\n",
        "precision_scores = scores_data[\"Precision Score\"].values\n",
        "recall_scores = scores_data[\"Recall Score\"].values"
      ],
      "metadata": {
        "id": "3B8qDSnLmKao"
      },
      "execution_count": 66,
      "outputs": []
    },
    {
      "cell_type": "code",
      "source": [
        "# Plot the evaluation metrics for each model\n",
        "plt.figure()\n",
        "plt.plot(model_names, accuracy_scores, color=\"red\", marker=\",\")\n",
        "plt.plot(model_names, f1_scores, color=\"blue\", marker=\".\")\n",
        "plt.plot(model_names, precision_scores, color=\"green\", marker=\"*\")\n",
        "plt.plot(model_names, recall_scores, color=\"orange\", marker=\"x\")\n",
        "plt.xticks(rotation=90)\n",
        "plt.show()"
      ],
      "metadata": {
        "colab": {
          "base_uri": "https://localhost:8080/",
          "height": 604
        },
        "id": "6YxKHYKMmKX8",
        "outputId": "fa9cee71-e658-4239-bd60-e05cbcbcb160"
      },
      "execution_count": 67,
      "outputs": [
        {
          "output_type": "display_data",
          "data": {
            "text/plain": [
              "<Figure size 640x480 with 1 Axes>"
            ],
            "image/png": "[encoded data removed]"
          },
          "metadata": {}
        }
      ]
    },
    {
      "cell_type": "code",
      "source": [],
      "metadata": {
        "id": "gDl18TlvmKVo"
      },
      "execution_count": null,
      "outputs": []
    },
    {
      "cell_type": "code",
      "source": [],
      "metadata": {
        "id": "bh7omSmrmKTg"
      },
      "execution_count": null,
      "outputs": []
    },
    {
      "cell_type": "code",
      "source": [],
      "metadata": {
        "id": "nvS4kdOtmKRG"
      },
      "execution_count": null,
      "outputs": []
    },
    {
      "cell_type": "code",
      "source": [],
      "metadata": {
        "id": "GotkwTxlmKOo"
      },
      "execution_count": null,
      "outputs": []
    }
  ]
}